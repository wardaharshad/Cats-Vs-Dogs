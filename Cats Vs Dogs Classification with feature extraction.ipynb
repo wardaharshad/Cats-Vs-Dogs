{
  "nbformat": 4,
  "nbformat_minor": 0,
  "metadata": {
    "colab": {
      "name": "Untitled3.ipynb",
      "provenance": [],
      "collapsed_sections": []
    },
    "kernelspec": {
      "name": "python3",
      "display_name": "Python 3"
    }
  },
  "cells": [
    {
      "cell_type": "code",
      "metadata": {
        "id": "0xzRfi03fEG7",
        "colab_type": "code",
        "colab": {
          "base_uri": "https://localhost:8080/",
          "height": 54
        },
        "outputId": "7ad84f59-e03e-426f-bc8c-711d0847eec2"
      },
      "source": [
        "from google.colab import drive\n",
        "drive.mount('/content/drive')"
      ],
      "execution_count": null,
      "outputs": [
        {
          "output_type": "stream",
          "text": [
            "Drive already mounted at /content/drive; to attempt to forcibly remount, call drive.mount(\"/content/drive\", force_remount=True).\n"
          ],
          "name": "stdout"
        }
      ]
    },
    {
      "cell_type": "code",
      "metadata": {
        "id": "enxVS0C2HGe6",
        "colab_type": "code",
        "colab": {
          "base_uri": "https://localhost:8080/",
          "height": 1000
        },
        "outputId": "6ee6602b-3c0b-4213-a1f3-d4a727ae958f"
      },
      "source": [
        "!ls '/content/drive/My Drive'\n"
      ],
      "execution_count": null,
      "outputs": [
        {
          "output_type": "stream",
          "text": [
            " 20190110_172751.jpg\n",
            " 4004588.pdf\n",
            "'43 (1).jpg'\n",
            " 43.jpg\n",
            " 9.jpg\n",
            "'abd cep'\n",
            " Abdullah1.gslides\n",
            "'achievement videos.mp4'\n",
            "'AIC WB FINAL_obe.doc'\n",
            "'Areej cep'\n",
            "'assignment 1.pdf'\n",
            "'Audio files'\n",
            " Book1.xlsx\n",
            " Camera\n",
            "'Camera a'\n",
            "'CEP (1).pdf'\n",
            " CEP.pdf\n",
            "'Chemistry 7e c.2012 - Silberberg, Amateis.pdf'\n",
            "'CNIC(front) (1).jpg'\n",
            "'CNIC(front).jpg'\n",
            "'Colab Notebooks'\n",
            "'Contact Information.gform'\n",
            "'Cover Letter.pdf'\n",
            "'CS prints (1).docx'\n",
            "'CS prints.docx'\n",
            "'CV(WARDAH).docx.pdf'\n",
            "'Dependent CNIC.pdf'\n",
            " DOC-20181021-WA0029.pdf\n",
            " Download\n",
            "'Due Date.pdf'\n",
            "'el sessional dsa.xlsx'\n",
            "'EM lab manual.doc'\n",
            " englsh.pptx\n",
            "'Event Feedback.gform'\n",
            " Facebook\n",
            "'Facebook mine'\n",
            " fariha\n",
            "'fb mine'\n",
            "'Fb mine'\n",
            "'GBWhatsApp Images'\n",
            "'Getting started.pdf'\n",
            " giphy.gif\n",
            " hafsa\n",
            " hebaPIAIC.pdf\n",
            "'HEC (1).jpg'\n",
            " HEC.jpg\n",
            " IMG-20181013-WA0004.jpg\n",
            "'IMG-20181013-WA0004 - Wardah Arshad (1).jpg'\n",
            "'IMG-20181013-WA0004 - Wardah Arshad.jpg'\n",
            " IMG-20181215-WA0045~2.jpg\n",
            "'IMG-20181215-WA0045~2 - Wardah Arshad.jpg'\n",
            " IMG_20190110_120919103~2.jpg\n",
            " IMG_20191105_075122_616.jpg\n",
            " IMG-20191206-WA0014~2.jpg\n",
            "'IM lab manual.docx'\n",
            "'IM ppt secC&D'\n",
            " inbound2149303961300236547.rar\n",
            " Instagram\n",
            "'Islamiat notes.docx'\n",
            " itc.pptx\n",
            " kashaf\n",
            "'lab 11 and 12.zip'\n",
            "'Lab Manual (AI).docx'\n",
            "'LAB SESSION 06&07.pdf'\n",
            "'La Casa De Papel AKA Money Heist S01 (2017) Season 01 1080p 10bit HEVC NF WEBRip x265 [ENGLISH - SPANISH] AAC 5.1  ~RONIN~'\n",
            "'La Casa De Papel AKA Money Heist S01 (2017) Season 01 1080p 10bit HEVC NF WEBRip x265 [ENGLISH - SPANISH] AAC 5.1  ~RONIN~ (1)'\n",
            "'La Casa De Papel AKA Money Heist S01 (2017) Season 01 1080p 10bit HEVC NF WEBRip x265 [ENGLISH - SPANISH] AAC 5.1  ~RONIN~ (2)'\n",
            " lec1.pdf\n",
            " lec2.pdf\n",
            " license_manager\n",
            " Messenger\n",
            "'Microelectronic Circuits by Sedra Smith,5th edition.pdf'\n",
            "'Mob audio'\n",
            "'Mob documents'\n",
            "'Mobile audio type'\n",
            "'Mobile images'\n",
            "'Mobile things'\n",
            "'Mobile videos'\n",
            "'my images'\n",
            "'NED(2nd) (1).pdf'\n",
            "'NED(2nd).pdf'\n",
            "'NED Identity Card.pdf'\n",
            "'Ned live sessions'\n",
            "'Notice-Fall, 2018 (dean-ece)_1.pdf'\n",
            "'pdf2doc (1).zip'\n",
            "'photography (Responses).gsheet'\n",
            "'PIAIC new.pdf'\n",
            " PIAIC.pdf\n",
            "'PIAIC Student Portal.pdf'\n",
            "'PIAIC Student Portal QR.pdf'\n",
            "'PL mannual_OBE_Revised.pdf'\n",
            " Presentation.pptx\n",
            "'Quarter2 voucher.pdf'\n",
            "'Quartus V11'\n",
            " Resume.pdf\n",
            "'robotics codes'\n",
            "'Salary Slip.pdf'\n",
            " scan0001.rar\n",
            " scan0002.pdf\n",
            " scan0005.pdf\n",
            " scan0008.pdf\n",
            "'Screenshots mob'\n",
            "'SEC CD.xlsx'\n",
            "'SENTEC ROBO HASTE.pptx'\n",
            "'snapchat export'\n",
            " songs\n",
            "'SSC Certificate (1).jpg'\n",
            "'SSC Certificate.jpg'\n",
            "'Test Result.xlsx'\n",
            "'Time Table SE EL Sec CD Spring2019.doc'\n",
            "'unais cep'\n",
            "'Untitled form (1).gform'\n",
            "'Untitled form (2).gform'\n",
            "'Untitled form.gform'\n",
            "'Untitled form (Responses).gsheet'\n",
            "'Untitled spreadsheet.gsheet'\n",
            "'urooj pics'\n",
            " VID-20200516-WA0005.mp4\n",
            "'wardah (1).jpg'\n",
            "'wardah (2).jpg'\n",
            "'Wardah Arshad WM12274.rar'\n",
            "'wardah cep'\n",
            " wardah.jpg\n",
            "'Web dev'\n",
            "'Whatsapp profile pics'\n",
            "'whole AB.xlsx'\n"
          ],
          "name": "stdout"
        }
      ]
    },
    {
      "cell_type": "code",
      "metadata": {
        "id": "z_rEGrbkMIbG",
        "colab_type": "code",
        "colab": {}
      },
      "source": [
        "#Dataset"
      ],
      "execution_count": null,
      "outputs": []
    },
    {
      "cell_type": "code",
      "metadata": {
        "id": "IWQ2bKxEHeBb",
        "colab_type": "code",
        "colab": {}
      },
      "source": [
        "original_dataset_dir =\"./drive/My Drive/Colab Notebooks/kaggle_original_data\"\n",
        "\n",
        "import os, shutil\n",
        "\n",
        "base_dir = './drive/My Drive/Colab Notebooks/working_directory'\n",
        "os.mkdir(base_dir)"
      ],
      "execution_count": null,
      "outputs": []
    },
    {
      "cell_type": "code",
      "metadata": {
        "id": "B9PNNGkRMyFq",
        "colab_type": "code",
        "colab": {}
      },
      "source": [
        "#Making Directories\n",
        "train_dir = os.path.join(base_dir, 'train')\n",
        "os.mkdir(train_dir)\n",
        "\n",
        "validation_dir = os.path.join(base_dir, 'validation')\n",
        "os.mkdir(validation_dir)\n",
        "\n",
        "test_dir = os.path.join(base_dir, 'test')\n",
        "os.mkdir(test_dir)"
      ],
      "execution_count": null,
      "outputs": []
    },
    {
      "cell_type": "code",
      "metadata": {
        "id": "w2wXowhVNFfB",
        "colab_type": "code",
        "colab": {}
      },
      "source": [
        "train_cats_dir = os.path.join(train_dir, 'cats')\n",
        "os.mkdir(train_cats_dir)\n",
        "\n",
        "train_dogs_dir = os.path.join(train_dir, 'dogs')\n",
        "os.mkdir(train_dogs_dir)\n",
        "\n",
        "validation_cats_dir = os.path.join(validation_dir, 'cats')\n",
        "os.mkdir(validation_cats_dir)\n",
        "\n",
        "validation_dogs_dir = os.path.join(validation_dir, 'dogs')\n",
        "os.mkdir(validation_dogs_dir)\n",
        "\n",
        "test_cats_dir = os.path.join(test_dir, 'cats')\n",
        "os.mkdir(test_cats_dir)\n",
        "\n",
        "test_dogs_dir = os.path.join(test_dir, 'dogs')\n",
        "os.mkdir(test_dogs_dir)"
      ],
      "execution_count": null,
      "outputs": []
    },
    {
      "cell_type": "code",
      "metadata": {
        "id": "kF-Vzha6NQiS",
        "colab_type": "code",
        "colab": {}
      },
      "source": [
        "fnames = ['cat.{}.jpg'.format(i) for i in range(1000)]\n",
        "for fname in fnames:\n",
        "  src = os.path.join(original_dataset_dir, fname)\n",
        "  dst = os.path.join(train_cats_dir, fname)\n",
        "  shutil.copyfile(src, dst)\n",
        "\n",
        "fnames = ['cat.{}.jpg'.format(i) for i in range(1000, 1500)]\n",
        "for fname in fnames:\n",
        "  src = os.path.join(original_dataset_dir, fname)\n",
        "  dst = os.path.join(validation_cats_dir, fname)\n",
        "  shutil.copyfile(src, dst)\n",
        "\n",
        "fnames = ['cat.{}.jpg'.format(i) for i in range(1500, 2000)]\n",
        "for fname in fnames:\n",
        "  src = os.path.join(original_dataset_dir, fname)\n",
        "  dst = os.path.join(test_cats_dir, fname)\n",
        "  shutil.copyfile(src, dst)\n",
        "\n",
        "fnames = ['dog.{}.jpg'.format(i) for i in range(1000)]\n",
        "for fname in fnames:\n",
        "  src = os.path.join(original_dataset_dir, fname)\n",
        "  dst = os.path.join(train_dogs_dir, fname)\n",
        "  shutil.copyfile(src, dst)\n",
        "\n",
        "fnames = ['dog.{}.jpg'.format(i) for i in range(1000, 1500)]\n",
        "for fname in fnames:\n",
        "  src = os.path.join(original_dataset_dir, fname)\n",
        "  dst = os.path.join(validation_dogs_dir, fname)\n",
        "  shutil.copyfile(src, dst)\n",
        "\n",
        "fnames = ['dog.{}.jpg'.format(i) for i in range(1500, 2000)]\n",
        "for fname in fnames:\n",
        "  src = os.path.join(original_dataset_dir, fname)\n",
        "  dst = os.path.join(test_dogs_dir, fname)\n",
        "  shutil.copyfile(src, dst)"
      ],
      "execution_count": null,
      "outputs": []
    },
    {
      "cell_type": "code",
      "metadata": {
        "id": "gugJ0fT9Of-I",
        "colab_type": "code",
        "colab": {
          "base_uri": "https://localhost:8080/",
          "height": 119
        },
        "outputId": "ff939c3a-646c-4402-bbca-80f4cb6ae039"
      },
      "source": [
        "print('total training cat images:', len(os.listdir(train_cats_dir)))\n",
        "print('total training dog images:', len(os.listdir(train_dogs_dir)))\n",
        "print('total validation cat images:', len(os.listdir(validation_cats_dir)))\n",
        "print('total validation dog images:', len(os.listdir(validation_dogs_dir)))\n",
        "print('total test cat images:', len(os.listdir(test_cats_dir)))\n",
        "print('total test dog images:', len(os.listdir(test_dogs_dir)))"
      ],
      "execution_count": null,
      "outputs": [
        {
          "output_type": "stream",
          "text": [
            "total training cat images: 1000\n",
            "total training dog images: 1000\n",
            "total validation cat images: 500\n",
            "total validation dog images: 500\n",
            "total test cat images: 500\n",
            "total test dog images: 500\n"
          ],
          "name": "stdout"
        }
      ]
    },
    {
      "cell_type": "code",
      "metadata": {
        "id": "NxSGzDrtp24G",
        "colab_type": "code",
        "colab": {}
      },
      "source": [
        "#FAST FEATURE EXTRACTION WITHOUT DATA AUGMENTATION"
      ],
      "execution_count": null,
      "outputs": []
    },
    {
      "cell_type": "code",
      "metadata": {
        "id": "MFSGceshK4tz",
        "colab_type": "code",
        "colab": {}
      },
      "source": [
        "#Instantiating the VGG16 convolutional base"
      ],
      "execution_count": null,
      "outputs": []
    },
    {
      "cell_type": "code",
      "metadata": {
        "id": "tC-Y9-bLK48l",
        "colab_type": "code",
        "colab": {}
      },
      "source": [
        "#Importing Model"
      ],
      "execution_count": null,
      "outputs": []
    },
    {
      "cell_type": "code",
      "metadata": {
        "id": "0OK-lcpDKpco",
        "colab_type": "code",
        "colab": {
          "base_uri": "https://localhost:8080/",
          "height": 88
        },
        "outputId": "43cb4a9d-b39b-4d28-a782-42ae660767d3"
      },
      "source": [
        "from keras.applications import VGG16\n",
        "conv_base = VGG16(weights='imagenet', include_top=False, input_shape=(150, 150, 3))"
      ],
      "execution_count": null,
      "outputs": [
        {
          "output_type": "stream",
          "text": [
            "Using TensorFlow backend.\n"
          ],
          "name": "stderr"
        },
        {
          "output_type": "stream",
          "text": [
            "Downloading data from https://github.com/fchollet/deep-learning-models/releases/download/v0.1/vgg16_weights_tf_dim_ordering_tf_kernels_notop.h5\n",
            "58892288/58889256 [==============================] - 1s 0us/step\n"
          ],
          "name": "stdout"
        }
      ]
    },
    {
      "cell_type": "code",
      "metadata": {
        "id": "bIAdNZPbKrlI",
        "colab_type": "code",
        "colab": {
          "base_uri": "https://localhost:8080/",
          "height": 799
        },
        "outputId": "5d672548-c2bf-4f7f-8b68-b03d5c31fe44"
      },
      "source": [
        "conv_base.summary()"
      ],
      "execution_count": null,
      "outputs": [
        {
          "output_type": "stream",
          "text": [
            "Model: \"vgg16\"\n",
            "_________________________________________________________________\n",
            "Layer (type)                 Output Shape              Param #   \n",
            "=================================================================\n",
            "input_1 (InputLayer)         (None, 150, 150, 3)       0         \n",
            "_________________________________________________________________\n",
            "block1_conv1 (Conv2D)        (None, 150, 150, 64)      1792      \n",
            "_________________________________________________________________\n",
            "block1_conv2 (Conv2D)        (None, 150, 150, 64)      36928     \n",
            "_________________________________________________________________\n",
            "block1_pool (MaxPooling2D)   (None, 75, 75, 64)        0         \n",
            "_________________________________________________________________\n",
            "block2_conv1 (Conv2D)        (None, 75, 75, 128)       73856     \n",
            "_________________________________________________________________\n",
            "block2_conv2 (Conv2D)        (None, 75, 75, 128)       147584    \n",
            "_________________________________________________________________\n",
            "block2_pool (MaxPooling2D)   (None, 37, 37, 128)       0         \n",
            "_________________________________________________________________\n",
            "block3_conv1 (Conv2D)        (None, 37, 37, 256)       295168    \n",
            "_________________________________________________________________\n",
            "block3_conv2 (Conv2D)        (None, 37, 37, 256)       590080    \n",
            "_________________________________________________________________\n",
            "block3_conv3 (Conv2D)        (None, 37, 37, 256)       590080    \n",
            "_________________________________________________________________\n",
            "block3_pool (MaxPooling2D)   (None, 18, 18, 256)       0         \n",
            "_________________________________________________________________\n",
            "block4_conv1 (Conv2D)        (None, 18, 18, 512)       1180160   \n",
            "_________________________________________________________________\n",
            "block4_conv2 (Conv2D)        (None, 18, 18, 512)       2359808   \n",
            "_________________________________________________________________\n",
            "block4_conv3 (Conv2D)        (None, 18, 18, 512)       2359808   \n",
            "_________________________________________________________________\n",
            "block4_pool (MaxPooling2D)   (None, 9, 9, 512)         0         \n",
            "_________________________________________________________________\n",
            "block5_conv1 (Conv2D)        (None, 9, 9, 512)         2359808   \n",
            "_________________________________________________________________\n",
            "block5_conv2 (Conv2D)        (None, 9, 9, 512)         2359808   \n",
            "_________________________________________________________________\n",
            "block5_conv3 (Conv2D)        (None, 9, 9, 512)         2359808   \n",
            "_________________________________________________________________\n",
            "block5_pool (MaxPooling2D)   (None, 4, 4, 512)         0         \n",
            "=================================================================\n",
            "Total params: 14,714,688\n",
            "Trainable params: 14,714,688\n",
            "Non-trainable params: 0\n",
            "_________________________________________________________________\n"
          ],
          "name": "stdout"
        }
      ]
    },
    {
      "cell_type": "code",
      "metadata": {
        "id": "hWb6KpfdLF6X",
        "colab_type": "code",
        "colab": {}
      },
      "source": [
        "#Extracting features using the pretrained convolutional base"
      ],
      "execution_count": null,
      "outputs": []
    },
    {
      "cell_type": "code",
      "metadata": {
        "id": "7mHxURMdLKso",
        "colab_type": "code",
        "colab": {}
      },
      "source": [
        "import os\n",
        "import numpy as np\n",
        "from keras.preprocessing.image import ImageDataGenerator"
      ],
      "execution_count": null,
      "outputs": []
    },
    {
      "cell_type": "code",
      "metadata": {
        "id": "2A7l3zaGLOjZ",
        "colab_type": "code",
        "colab": {}
      },
      "source": [
        "train_dir = os.path.join(base_dir, 'train')\n",
        "validation_dir = os.path.join(base_dir, 'validation')\n",
        "test_dir = os.path.join(base_dir, 'test')"
      ],
      "execution_count": null,
      "outputs": []
    },
    {
      "cell_type": "code",
      "metadata": {
        "id": "f80VZ3BBLc25",
        "colab_type": "code",
        "colab": {}
      },
      "source": [
        "datagen = ImageDataGenerator(rescale=1./255)\n",
        "batch_size = 20"
      ],
      "execution_count": null,
      "outputs": []
    },
    {
      "cell_type": "code",
      "metadata": {
        "id": "i1I_Ve_DLkV2",
        "colab_type": "code",
        "colab": {
          "base_uri": "https://localhost:8080/",
          "height": 68
        },
        "outputId": "702b5f6f-f677-401e-f5a1-f06c1f987962"
      },
      "source": [
        "train_dir = os.path.join(base_dir, 'train')\n",
        "validation_dir = os.path.join(base_dir, 'validation')\n",
        "test_dir = os.path.join(base_dir, 'test')\n",
        "\n",
        "datagen = ImageDataGenerator(rescale=1./255)\n",
        "batch_size = 20\n",
        "\n",
        "def extract_features(directory, sample_count):\n",
        "  features = np.zeros(shape=(sample_count, 4, 4, 512))\n",
        "  labels = np.zeros(shape=(sample_count))\n",
        "  generator = datagen.flow_from_directory(\n",
        "      directory,\n",
        "      target_size=(150, 150),\n",
        "      batch_size=batch_size,\n",
        "      class_mode='binary')\n",
        "  i = 0\n",
        "  for inputs_batch, labels_batch in generator:\n",
        "    features_batch = conv_base.predict(inputs_batch)\n",
        "    features[i * batch_size : (i + 1) * batch_size] = features_batch\n",
        "    labels[i * batch_size : (i + 1) * batch_size] = labels_batch\n",
        "    i += 1\n",
        "    if i * batch_size >= sample_count:\n",
        "      break\n",
        "  return features, labels\n",
        "\n",
        "train_features, train_labels = extract_features(train_dir, 2000)\n",
        "validation_features, validation_labels = extract_features(validation_dir, 1000)\n",
        "test_features, test_labels = extract_features(test_dir, 1000)"
      ],
      "execution_count": null,
      "outputs": [
        {
          "output_type": "stream",
          "text": [
            "Found 2000 images belonging to 2 classes.\n",
            "Found 1000 images belonging to 2 classes.\n",
            "Found 1000 images belonging to 2 classes.\n"
          ],
          "name": "stdout"
        }
      ]
    },
    {
      "cell_type": "code",
      "metadata": {
        "id": "fGTqIGGwL3RI",
        "colab_type": "code",
        "colab": {}
      },
      "source": [
        "\n",
        "train_features = np.reshape(train_features, (2000, 4 * 4 * 512))\n",
        "validation_features = np.reshape(validation_features, (1000, 4 * 4 * 512))\n",
        "test_features = np.reshape(test_features, (1000, 4 * 4 * 512))"
      ],
      "execution_count": null,
      "outputs": []
    },
    {
      "cell_type": "code",
      "metadata": {
        "id": "NoTkaopWeNcV",
        "colab_type": "code",
        "colab": {}
      },
      "source": [
        "#Defining and training the densely connected classifier"
      ],
      "execution_count": null,
      "outputs": []
    },
    {
      "cell_type": "code",
      "metadata": {
        "id": "QA-gqSQjlBm7",
        "colab_type": "code",
        "colab": {}
      },
      "source": [
        "from keras import models\n",
        "from keras import layers\n",
        "from keras import optimizers"
      ],
      "execution_count": null,
      "outputs": []
    },
    {
      "cell_type": "code",
      "metadata": {
        "id": "5GwSoikNlMIT",
        "colab_type": "code",
        "colab": {}
      },
      "source": [
        "#Build model"
      ],
      "execution_count": null,
      "outputs": []
    },
    {
      "cell_type": "code",
      "metadata": {
        "id": "pt_2m7EtlVDT",
        "colab_type": "code",
        "colab": {}
      },
      "source": [
        "model = models.Sequential()\n",
        "model.add(layers.Dense(256, activation='relu', input_dim=4 * 4 * 512))\n",
        "model.add(layers.Dropout(0.5))\n",
        "model.add(layers.Dense(1, activation='sigmoid'))"
      ],
      "execution_count": null,
      "outputs": []
    },
    {
      "cell_type": "code",
      "metadata": {
        "id": "pPtdAuzElWbj",
        "colab_type": "code",
        "colab": {}
      },
      "source": [
        "#compile"
      ],
      "execution_count": null,
      "outputs": []
    },
    {
      "cell_type": "code",
      "metadata": {
        "id": "gbZTjrJxmHy5",
        "colab_type": "code",
        "colab": {}
      },
      "source": [
        "model.compile(optimizer=optimizers.RMSprop(lr=2e-5),\n",
        "              loss='binary_crossentropy',\n",
        "              metrics=['acc'])"
      ],
      "execution_count": null,
      "outputs": []
    },
    {
      "cell_type": "code",
      "metadata": {
        "id": "aoMAZJfKmi-T",
        "colab_type": "code",
        "colab": {}
      },
      "source": [
        "#Fitting"
      ],
      "execution_count": null,
      "outputs": []
    },
    {
      "cell_type": "code",
      "metadata": {
        "id": "_Q0B9opRmtUO",
        "colab_type": "code",
        "colab": {
          "base_uri": "https://localhost:8080/",
          "height": 1000
        },
        "outputId": "f3766462-6509-404b-fcc4-7f125ef47cd5"
      },
      "source": [
        "history = model.fit(train_features, train_labels,\n",
        "                    epochs=30,\n",
        "                    batch_size=20,\n",
        "                    validation_data=(validation_features, validation_labels))"
      ],
      "execution_count": null,
      "outputs": [
        {
          "output_type": "stream",
          "text": [
            "Train on 2000 samples, validate on 1000 samples\n",
            "Epoch 1/30\n",
            "2000/2000 [==============================] - 3s 1ms/step - loss: 0.6223 - acc: 0.6460 - val_loss: 0.4632 - val_acc: 0.8310\n",
            "Epoch 2/30\n",
            "2000/2000 [==============================] - 2s 1ms/step - loss: 0.4414 - acc: 0.8145 - val_loss: 0.3754 - val_acc: 0.8720\n",
            "Epoch 3/30\n",
            "2000/2000 [==============================] - 2s 1ms/step - loss: 0.3658 - acc: 0.8465 - val_loss: 0.3327 - val_acc: 0.8820\n",
            "Epoch 4/30\n",
            "2000/2000 [==============================] - 2s 1ms/step - loss: 0.3214 - acc: 0.8630 - val_loss: 0.3070 - val_acc: 0.8880\n",
            "Epoch 5/30\n",
            "2000/2000 [==============================] - 2s 1ms/step - loss: 0.2948 - acc: 0.8750 - val_loss: 0.2949 - val_acc: 0.8860\n",
            "Epoch 6/30\n",
            "2000/2000 [==============================] - 2s 1ms/step - loss: 0.2699 - acc: 0.8875 - val_loss: 0.2776 - val_acc: 0.8930\n",
            "Epoch 7/30\n",
            "2000/2000 [==============================] - 2s 1ms/step - loss: 0.2506 - acc: 0.9025 - val_loss: 0.2711 - val_acc: 0.8950\n",
            "Epoch 8/30\n",
            "2000/2000 [==============================] - 2s 1ms/step - loss: 0.2394 - acc: 0.9055 - val_loss: 0.2709 - val_acc: 0.8910\n",
            "Epoch 9/30\n",
            "2000/2000 [==============================] - 2s 1ms/step - loss: 0.2252 - acc: 0.9110 - val_loss: 0.2592 - val_acc: 0.9000\n",
            "Epoch 10/30\n",
            "2000/2000 [==============================] - 2s 1ms/step - loss: 0.2151 - acc: 0.9200 - val_loss: 0.2527 - val_acc: 0.8990\n",
            "Epoch 11/30\n",
            "2000/2000 [==============================] - 2s 1ms/step - loss: 0.2036 - acc: 0.9245 - val_loss: 0.2491 - val_acc: 0.8990\n",
            "Epoch 12/30\n",
            "2000/2000 [==============================] - 2s 1ms/step - loss: 0.1924 - acc: 0.9280 - val_loss: 0.2476 - val_acc: 0.9010\n",
            "Epoch 13/30\n",
            "2000/2000 [==============================] - 2s 1ms/step - loss: 0.1798 - acc: 0.9365 - val_loss: 0.2529 - val_acc: 0.8990\n",
            "Epoch 14/30\n",
            "2000/2000 [==============================] - 2s 1ms/step - loss: 0.1777 - acc: 0.9405 - val_loss: 0.2413 - val_acc: 0.9040\n",
            "Epoch 15/30\n",
            "2000/2000 [==============================] - 2s 1ms/step - loss: 0.1675 - acc: 0.9440 - val_loss: 0.2384 - val_acc: 0.9040\n",
            "Epoch 16/30\n",
            "2000/2000 [==============================] - 2s 1ms/step - loss: 0.1548 - acc: 0.9490 - val_loss: 0.2422 - val_acc: 0.9030\n",
            "Epoch 17/30\n",
            "2000/2000 [==============================] - 2s 1ms/step - loss: 0.1519 - acc: 0.9480 - val_loss: 0.2389 - val_acc: 0.9030\n",
            "Epoch 18/30\n",
            "2000/2000 [==============================] - 2s 1ms/step - loss: 0.1452 - acc: 0.9545 - val_loss: 0.2433 - val_acc: 0.9000\n",
            "Epoch 19/30\n",
            "2000/2000 [==============================] - 2s 1ms/step - loss: 0.1390 - acc: 0.9580 - val_loss: 0.2379 - val_acc: 0.9020\n",
            "Epoch 20/30\n",
            "2000/2000 [==============================] - 2s 1ms/step - loss: 0.1389 - acc: 0.9520 - val_loss: 0.2358 - val_acc: 0.9030\n",
            "Epoch 21/30\n",
            "2000/2000 [==============================] - 2s 1ms/step - loss: 0.1298 - acc: 0.9550 - val_loss: 0.2371 - val_acc: 0.9040\n",
            "Epoch 22/30\n",
            "2000/2000 [==============================] - 2s 1ms/step - loss: 0.1245 - acc: 0.9595 - val_loss: 0.2361 - val_acc: 0.9030\n",
            "Epoch 23/30\n",
            "2000/2000 [==============================] - 2s 1ms/step - loss: 0.1179 - acc: 0.9635 - val_loss: 0.2364 - val_acc: 0.9020\n",
            "Epoch 24/30\n",
            "2000/2000 [==============================] - 2s 1ms/step - loss: 0.1173 - acc: 0.9610 - val_loss: 0.2416 - val_acc: 0.9000\n",
            "Epoch 25/30\n",
            "2000/2000 [==============================] - 2s 1ms/step - loss: 0.1102 - acc: 0.9645 - val_loss: 0.2415 - val_acc: 0.9010\n",
            "Epoch 26/30\n",
            "2000/2000 [==============================] - 2s 1ms/step - loss: 0.1088 - acc: 0.9650 - val_loss: 0.2410 - val_acc: 0.9010\n",
            "Epoch 27/30\n",
            "2000/2000 [==============================] - 2s 1ms/step - loss: 0.1039 - acc: 0.9665 - val_loss: 0.2392 - val_acc: 0.8990\n",
            "Epoch 28/30\n",
            "2000/2000 [==============================] - 2s 1ms/step - loss: 0.0976 - acc: 0.9700 - val_loss: 0.2409 - val_acc: 0.9000\n",
            "Epoch 29/30\n",
            "2000/2000 [==============================] - 2s 1ms/step - loss: 0.0967 - acc: 0.9715 - val_loss: 0.2406 - val_acc: 0.9030\n",
            "Epoch 30/30\n",
            "2000/2000 [==============================] - 2s 1ms/step - loss: 0.0915 - acc: 0.9710 - val_loss: 0.2442 - val_acc: 0.8990\n"
          ],
          "name": "stdout"
        }
      ]
    },
    {
      "cell_type": "code",
      "metadata": {
        "id": "ZeTJCjqCmzal",
        "colab_type": "code",
        "colab": {}
      },
      "source": [
        "#Plotting the results"
      ],
      "execution_count": null,
      "outputs": []
    },
    {
      "cell_type": "code",
      "metadata": {
        "id": "e9DgdFiQnoa_",
        "colab_type": "code",
        "colab": {
          "base_uri": "https://localhost:8080/",
          "height": 545
        },
        "outputId": "8d17444c-e475-4a92-b5fe-5b5f3749b348"
      },
      "source": [
        "import matplotlib.pyplot as plt\n",
        "\n",
        "acc = history.history['acc']\n",
        "val_acc = history.history['val_acc']\n",
        "loss = history.history['loss']\n",
        "val_loss = history.history['val_loss']\n",
        "\n",
        "epochs = range(1, len(acc) + 1)\n",
        "\n",
        "plt.plot(epochs, acc, 'bo', label='Training acc')\n",
        "plt.plot(epochs, val_acc, 'b', label='Validation acc')\n",
        "plt.title('Training and validation accuracy')\n",
        "plt.legend()\n",
        "plt.figure()\n",
        "\n",
        "plt.plot(epochs, loss, 'bo', label='Training loss')\n",
        "plt.plot(epochs, val_loss, 'b', label='Validation loss')\n",
        "plt.title('Training and validation loss')\n",
        "plt.legend()\n",
        "plt.show()"
      ],
      "execution_count": null,
      "outputs": [
        {
          "output_type": "display_data",
          "data": {
            "image/png": "[encoded data removed]",
            "text/plain": [
              "<Figure size 432x288 with 1 Axes>"
            ]
          },
          "metadata": {
            "tags": [],
            "needs_background": "light"
          }
        },
        {
          "output_type": "display_data",
          "data": {
            "image/png": "[encoded data removed]",
            "text/plain": [
              "<Figure size 432x288 with 1 Axes>"
            ]
          },
          "metadata": {
            "tags": [],
            "needs_background": "light"
          }
        }
      ]
    },
    {
      "cell_type": "code",
      "metadata": {
        "id": "kWNxtQUBoGHQ",
        "colab_type": "code",
        "colab": {}
      },
      "source": [
        "#FEATURE EXTRACTION WITH DATA AUGMENTATION"
      ],
      "execution_count": null,
      "outputs": []
    },
    {
      "cell_type": "code",
      "metadata": {
        "id": "x1pRPUs1qSPl",
        "colab_type": "code",
        "colab": {}
      },
      "source": [
        "#Adding a densely connected classifier on top of the convolutional base"
      ],
      "execution_count": null,
      "outputs": []
    },
    {
      "cell_type": "code",
      "metadata": {
        "id": "XZmzJyjvqVty",
        "colab_type": "code",
        "colab": {}
      },
      "source": [
        "from keras import models\n",
        "from keras import layers"
      ],
      "execution_count": null,
      "outputs": []
    },
    {
      "cell_type": "code",
      "metadata": {
        "id": "ZoKH5wwiqbuY",
        "colab_type": "code",
        "colab": {}
      },
      "source": [
        "#Build model"
      ],
      "execution_count": null,
      "outputs": []
    },
    {
      "cell_type": "code",
      "metadata": {
        "id": "5u9Z2ipYqdyn",
        "colab_type": "code",
        "colab": {}
      },
      "source": [
        "model = models.Sequential()\n",
        "model.add(conv_base)\n",
        "model.add(layers.Flatten())\n",
        "model.add(layers.Dense(256, activation='relu'))\n",
        "model.add(layers.Dense(1, activation='sigmoid'))"
      ],
      "execution_count": null,
      "outputs": []
    },
    {
      "cell_type": "code",
      "metadata": {
        "id": "h_8dNGR0qgRj",
        "colab_type": "code",
        "colab": {
          "base_uri": "https://localhost:8080/",
          "height": 289
        },
        "outputId": "1d80c7dc-b4c4-40db-9e45-ffa6f9dcd447"
      },
      "source": [
        "model.summary()"
      ],
      "execution_count": null,
      "outputs": [
        {
          "output_type": "stream",
          "text": [
            "Model: \"sequential_2\"\n",
            "_________________________________________________________________\n",
            "Layer (type)                 Output Shape              Param #   \n",
            "=================================================================\n",
            "vgg16 (Model)                (None, 4, 4, 512)         14714688  \n",
            "_________________________________________________________________\n",
            "flatten_1 (Flatten)          (None, 8192)              0         \n",
            "_________________________________________________________________\n",
            "dense_3 (Dense)              (None, 256)               2097408   \n",
            "_________________________________________________________________\n",
            "dense_4 (Dense)              (None, 1)                 257       \n",
            "=================================================================\n",
            "Total params: 16,812,353\n",
            "Trainable params: 16,812,353\n",
            "Non-trainable params: 0\n",
            "_________________________________________________________________\n"
          ],
          "name": "stdout"
        }
      ]
    },
    {
      "cell_type": "code",
      "metadata": {
        "id": "2RSFLBO1qiuA",
        "colab_type": "code",
        "colab": {}
      },
      "source": [
        "#Freezing"
      ],
      "execution_count": null,
      "outputs": []
    },
    {
      "cell_type": "code",
      "metadata": {
        "id": "ZI0fi_bdq53p",
        "colab_type": "code",
        "colab": {
          "base_uri": "https://localhost:8080/",
          "height": 51
        },
        "outputId": "8dddea69-8d62-489a-bf89-04cf01d0c47e"
      },
      "source": [
        "print('This is the number of trainable weights '\n",
        "'before freezing the conv base:', len(model.trainable_weights))\n",
        "\n",
        "conv_base.trainable = False\n",
        "\n",
        "print('This is the number of trainable weights '\n",
        "'after freezing the conv base:', len(model.trainable_weights))\n",
        "\n"
      ],
      "execution_count": null,
      "outputs": [
        {
          "output_type": "stream",
          "text": [
            "This is the number of trainable weights before freezing the conv base: 30\n",
            "This is the number of trainable weights after freezing the conv base: 4\n"
          ],
          "name": "stdout"
        }
      ]
    },
    {
      "cell_type": "code",
      "metadata": {
        "id": "22pm_ADBrD_n",
        "colab_type": "code",
        "colab": {}
      },
      "source": [
        "#Training the model end to end with a frozen convolutional base"
      ],
      "execution_count": null,
      "outputs": []
    },
    {
      "cell_type": "code",
      "metadata": {
        "id": "IMPO_ThurIfU",
        "colab_type": "code",
        "colab": {
          "base_uri": "https://localhost:8080/",
          "height": 51
        },
        "outputId": "13b79a1a-4232-4d35-ad17-adb39756229d"
      },
      "source": [
        "from keras.preprocessing.image import ImageDataGenerator\n",
        "from keras import optimizers\n",
        "\n",
        "train_datagen = ImageDataGenerator(\n",
        "    rescale=1./255,\n",
        "    rotation_range=40,\n",
        "    width_shift_range=0.2,\n",
        "    height_shift_range=0.2,\n",
        "    shear_range=0.2,\n",
        "    zoom_range=0.2,\n",
        "    horizontal_flip=True,\n",
        "    fill_mode='nearest')\n",
        "\n",
        "test_datagen = ImageDataGenerator(rescale=1./255)\n",
        "\n",
        "train_generator = train_datagen.flow_from_directory(\n",
        "    train_dir,\n",
        "    target_size=(150, 150),\n",
        "    batch_size=20,\n",
        "    class_mode='binary')\n",
        "\n",
        "validation_generator = test_datagen.flow_from_directory(\n",
        "    validation_dir,\n",
        "    target_size=(150, 150),\n",
        "    batch_size=20,\n",
        "    class_mode='binary')"
      ],
      "execution_count": null,
      "outputs": [
        {
          "output_type": "stream",
          "text": [
            "Found 2000 images belonging to 2 classes.\n",
            "Found 1000 images belonging to 2 classes.\n"
          ],
          "name": "stdout"
        }
      ]
    },
    {
      "cell_type": "code",
      "metadata": {
        "id": "JyR0YlZ6sd6U",
        "colab_type": "code",
        "colab": {}
      },
      "source": [
        "#compile"
      ],
      "execution_count": null,
      "outputs": []
    },
    {
      "cell_type": "code",
      "metadata": {
        "id": "oSmzPlCQtElz",
        "colab_type": "code",
        "colab": {}
      },
      "source": [
        "model.compile(loss='binary_crossentropy',\n",
        "              optimizer=optimizers.RMSprop(lr=2e-5),\n",
        "              metrics=['acc'])"
      ],
      "execution_count": null,
      "outputs": []
    },
    {
      "cell_type": "code",
      "metadata": {
        "id": "eL694jW2tIT6",
        "colab_type": "code",
        "colab": {}
      },
      "source": [
        "#Fitting"
      ],
      "execution_count": null,
      "outputs": []
    },
    {
      "cell_type": "code",
      "metadata": {
        "id": "KXNHoItLtMig",
        "colab_type": "code",
        "colab": {
          "base_uri": "https://localhost:8080/",
          "height": 1000
        },
        "outputId": "8a701581-6bc4-4f3a-d461-7574dfda7dd2"
      },
      "source": [
        "history = model.fit_generator(\n",
        "    train_generator,\n",
        "    steps_per_epoch=100,\n",
        "    epochs=30,\n",
        "    validation_data=validation_generator,\n",
        "    validation_steps=50)"
      ],
      "execution_count": null,
      "outputs": [
        {
          "output_type": "stream",
          "text": [
            "Epoch 1/30\n",
            "100/100 [==============================] - 663s 7s/step - loss: 0.5725 - acc: 0.7115 - val_loss: 0.4488 - val_acc: 0.8170\n",
            "Epoch 2/30\n",
            "100/100 [==============================] - 660s 7s/step - loss: 0.4766 - acc: 0.7790 - val_loss: 0.3428 - val_acc: 0.8640\n",
            "Epoch 3/30\n",
            "100/100 [==============================] - 660s 7s/step - loss: 0.4371 - acc: 0.7975 - val_loss: 0.2656 - val_acc: 0.8770\n",
            "Epoch 4/30\n",
            "100/100 [==============================] - 660s 7s/step - loss: 0.4038 - acc: 0.8230 - val_loss: 0.3644 - val_acc: 0.8630\n",
            "Epoch 5/30\n",
            "100/100 [==============================] - 659s 7s/step - loss: 0.3748 - acc: 0.8325 - val_loss: 0.2468 - val_acc: 0.8890\n",
            "Epoch 6/30\n",
            "100/100 [==============================] - 660s 7s/step - loss: 0.3650 - acc: 0.8405 - val_loss: 0.2771 - val_acc: 0.8840\n",
            "Epoch 7/30\n",
            "100/100 [==============================] - 660s 7s/step - loss: 0.3467 - acc: 0.8485 - val_loss: 0.2228 - val_acc: 0.8950\n",
            "Epoch 8/30\n",
            "100/100 [==============================] - 659s 7s/step - loss: 0.3424 - acc: 0.8485 - val_loss: 0.2744 - val_acc: 0.8950\n",
            "Epoch 9/30\n",
            "100/100 [==============================] - 659s 7s/step - loss: 0.3433 - acc: 0.8485 - val_loss: 0.2371 - val_acc: 0.9010\n",
            "Epoch 10/30\n",
            "100/100 [==============================] - 659s 7s/step - loss: 0.3403 - acc: 0.8510 - val_loss: 0.2835 - val_acc: 0.8980\n",
            "Epoch 11/30\n",
            "100/100 [==============================] - 659s 7s/step - loss: 0.3351 - acc: 0.8510 - val_loss: 0.1388 - val_acc: 0.9070\n",
            "Epoch 12/30\n",
            "100/100 [==============================] - 659s 7s/step - loss: 0.3191 - acc: 0.8655 - val_loss: 0.4530 - val_acc: 0.9030\n",
            "Epoch 13/30\n",
            "100/100 [==============================] - 659s 7s/step - loss: 0.3186 - acc: 0.8550 - val_loss: 0.2032 - val_acc: 0.9030\n",
            "Epoch 14/30\n",
            "100/100 [==============================] - 659s 7s/step - loss: 0.3091 - acc: 0.8725 - val_loss: 0.2124 - val_acc: 0.9050\n",
            "Epoch 15/30\n",
            "100/100 [==============================] - 669s 7s/step - loss: 0.3091 - acc: 0.8705 - val_loss: 0.1058 - val_acc: 0.9060\n",
            "Epoch 16/30\n",
            "100/100 [==============================] - 671s 7s/step - loss: 0.3067 - acc: 0.8650 - val_loss: 0.1373 - val_acc: 0.9020\n",
            "Epoch 17/30\n",
            "100/100 [==============================] - 671s 7s/step - loss: 0.3019 - acc: 0.8720 - val_loss: 0.3018 - val_acc: 0.8990\n",
            "Epoch 18/30\n",
            "100/100 [==============================] - 672s 7s/step - loss: 0.3103 - acc: 0.8700 - val_loss: 0.2267 - val_acc: 0.8940\n",
            "Epoch 19/30\n",
            "100/100 [==============================] - 671s 7s/step - loss: 0.3011 - acc: 0.8715 - val_loss: 0.1674 - val_acc: 0.9100\n",
            "Epoch 20/30\n",
            "100/100 [==============================] - 671s 7s/step - loss: 0.3045 - acc: 0.8630 - val_loss: 0.3552 - val_acc: 0.9070\n",
            "Epoch 21/30\n",
            "100/100 [==============================] - 671s 7s/step - loss: 0.3057 - acc: 0.8605 - val_loss: 0.1417 - val_acc: 0.9070\n",
            "Epoch 22/30\n",
            "100/100 [==============================] - 671s 7s/step - loss: 0.3005 - acc: 0.8675 - val_loss: 0.1982 - val_acc: 0.9080\n",
            "Epoch 23/30\n",
            "100/100 [==============================] - 673s 7s/step - loss: 0.2893 - acc: 0.8720 - val_loss: 0.3810 - val_acc: 0.9070\n",
            "Epoch 24/30\n",
            "100/100 [==============================] - 689s 7s/step - loss: 0.2828 - acc: 0.8810 - val_loss: 0.3371 - val_acc: 0.9090\n",
            "Epoch 25/30\n",
            "100/100 [==============================] - 674s 7s/step - loss: 0.2835 - acc: 0.8785 - val_loss: 0.0924 - val_acc: 0.9040\n",
            "Epoch 26/30\n",
            "100/100 [==============================] - 673s 7s/step - loss: 0.2989 - acc: 0.8665 - val_loss: 0.2104 - val_acc: 0.9030\n",
            "Epoch 27/30\n",
            "100/100 [==============================] - 673s 7s/step - loss: 0.2824 - acc: 0.8795 - val_loss: 0.3276 - val_acc: 0.9080\n",
            "Epoch 28/30\n",
            "100/100 [==============================] - 671s 7s/step - loss: 0.2783 - acc: 0.8810 - val_loss: 0.1774 - val_acc: 0.9080\n",
            "Epoch 29/30\n",
            "100/100 [==============================] - 671s 7s/step - loss: 0.2790 - acc: 0.8860 - val_loss: 0.0307 - val_acc: 0.9040\n",
            "Epoch 30/30\n",
            "100/100 [==============================] - 672s 7s/step - loss: 0.2890 - acc: 0.8785 - val_loss: 0.1398 - val_acc: 0.9120\n"
          ],
          "name": "stdout"
        }
      ]
    },
    {
      "cell_type": "code",
      "metadata": {
        "id": "yMHhW_MPtWrP",
        "colab_type": "code",
        "colab": {
          "base_uri": "https://localhost:8080/",
          "height": 231
        },
        "outputId": "7ba37a90-7516-441e-e3a6-3571265e2154"
      },
      "source": [
        "history = model.fit_generator(\n",
        "    train_generator,\n",
        "    steps_per_epoch=100,\n",
        "    epochs=10,\n",
        "    validation_data=validation_generator,\n",
        "    validation_steps=50)"
      ],
      "execution_count": null,
      "outputs": [
        {
          "output_type": "error",
          "ename": "NameError",
          "evalue": "ignored",
          "traceback": [
            "\u001b[0;31m---------------------------------------------------------------------------\u001b[0m",
            "\u001b[0;31mNameError\u001b[0m                                 Traceback (most recent call last)",
            "\u001b[0;32m<ipython-input-1-8d710071cf0c>\u001b[0m in \u001b[0;36m<module>\u001b[0;34m()\u001b[0m\n\u001b[0;32m----> 1\u001b[0;31m history = model.fit_generator(\n\u001b[0m\u001b[1;32m      2\u001b[0m     \u001b[0mtrain_generator\u001b[0m\u001b[0;34m,\u001b[0m\u001b[0;34m\u001b[0m\u001b[0;34m\u001b[0m\u001b[0m\n\u001b[1;32m      3\u001b[0m     \u001b[0msteps_per_epoch\u001b[0m\u001b[0;34m=\u001b[0m\u001b[0;36m100\u001b[0m\u001b[0;34m,\u001b[0m\u001b[0;34m\u001b[0m\u001b[0;34m\u001b[0m\u001b[0m\n\u001b[1;32m      4\u001b[0m     \u001b[0mepochs\u001b[0m\u001b[0;34m=\u001b[0m\u001b[0;36m10\u001b[0m\u001b[0;34m,\u001b[0m\u001b[0;34m\u001b[0m\u001b[0;34m\u001b[0m\u001b[0m\n\u001b[1;32m      5\u001b[0m     \u001b[0mvalidation_data\u001b[0m\u001b[0;34m=\u001b[0m\u001b[0mvalidation_generator\u001b[0m\u001b[0;34m,\u001b[0m\u001b[0;34m\u001b[0m\u001b[0;34m\u001b[0m\u001b[0m\n",
            "\u001b[0;31mNameError\u001b[0m: name 'model' is not defined"
          ]
        }
      ]
    },
    {
      "cell_type": "code",
      "metadata": {
        "id": "HEjkXhfgpl8D",
        "colab_type": "code",
        "colab": {
          "base_uri": "https://localhost:8080/",
          "height": 545
        },
        "outputId": "90b0dc5d-f057-486d-d1ac-72999e8c8576"
      },
      "source": [
        "import matplotlib.pyplot as plt\n",
        "\n",
        "acc = history.history['acc']\n",
        "val_acc = history.history['val_acc']\n",
        "loss = history.history['loss']\n",
        "val_loss = history.history['val_loss']\n",
        "\n",
        "epochs = range(1, len(acc) + 1)\n",
        "\n",
        "plt.plot(epochs, acc, 'bo', label='Training acc')\n",
        "plt.plot(epochs, val_acc, 'b', label='Validation acc')\n",
        "plt.title('Training and validation accuracy')\n",
        "plt.legend()\n",
        "plt.figure()\n",
        "\n",
        "plt.plot(epochs, loss, 'bo', label='Training loss')\n",
        "plt.plot(epochs, val_loss, 'b', label='Validation loss')\n",
        "plt.title('Training and validation loss')\n",
        "plt.legend()\n",
        "plt.show()"
      ],
      "execution_count": null,
      "outputs": [
        {
          "output_type": "display_data",
          "data": {
            "image/png": "[encoded data removed]",
            "text/plain": [
              "<Figure size 432x288 with 1 Axes>"
            ]
          },
          "metadata": {
            "tags": [],
            "needs_background": "light"
          }
        },
        {
          "output_type": "display_data",
          "data": {
            "image/png": "[encoded data removed]",
            "text/plain": [
              "<Figure size 432x288 with 1 Axes>"
            ]
          },
          "metadata": {
            "tags": [],
            "needs_background": "light"
          }
        }
      ]
    },
    {
      "cell_type": "code",
      "metadata": {
        "id": "fCieyvGk9Joi",
        "colab_type": "code",
        "colab": {}
      },
      "source": [
        "model.save('cats_and_dogs_small_4.h5')"
      ],
      "execution_count": null,
      "outputs": []
    },
    {
      "cell_type": "code",
      "metadata": {
        "id": "8glnTr49qo5J",
        "colab_type": "code",
        "colab": {}
      },
      "source": [
        "#FINE-TUNNING"
      ],
      "execution_count": null,
      "outputs": []
    },
    {
      "cell_type": "code",
      "metadata": {
        "id": "XwIr0-qNrIJO",
        "colab_type": "code",
        "colab": {
          "base_uri": "https://localhost:8080/",
          "height": 799
        },
        "outputId": "eda99105-90e0-4f76-eb87-55683f145251"
      },
      "source": [
        "conv_base.summary()"
      ],
      "execution_count": null,
      "outputs": [
        {
          "output_type": "stream",
          "text": [
            "Model: \"vgg16\"\n",
            "_________________________________________________________________\n",
            "Layer (type)                 Output Shape              Param #   \n",
            "=================================================================\n",
            "input_1 (InputLayer)         (None, 150, 150, 3)       0         \n",
            "_________________________________________________________________\n",
            "block1_conv1 (Conv2D)        (None, 150, 150, 64)      1792      \n",
            "_________________________________________________________________\n",
            "block1_conv2 (Conv2D)        (None, 150, 150, 64)      36928     \n",
            "_________________________________________________________________\n",
            "block1_pool (MaxPooling2D)   (None, 75, 75, 64)        0         \n",
            "_________________________________________________________________\n",
            "block2_conv1 (Conv2D)        (None, 75, 75, 128)       73856     \n",
            "_________________________________________________________________\n",
            "block2_conv2 (Conv2D)        (None, 75, 75, 128)       147584    \n",
            "_________________________________________________________________\n",
            "block2_pool (MaxPooling2D)   (None, 37, 37, 128)       0         \n",
            "_________________________________________________________________\n",
            "block3_conv1 (Conv2D)        (None, 37, 37, 256)       295168    \n",
            "_________________________________________________________________\n",
            "block3_conv2 (Conv2D)        (None, 37, 37, 256)       590080    \n",
            "_________________________________________________________________\n",
            "block3_conv3 (Conv2D)        (None, 37, 37, 256)       590080    \n",
            "_________________________________________________________________\n",
            "block3_pool (MaxPooling2D)   (None, 18, 18, 256)       0         \n",
            "_________________________________________________________________\n",
            "block4_conv1 (Conv2D)        (None, 18, 18, 512)       1180160   \n",
            "_________________________________________________________________\n",
            "block4_conv2 (Conv2D)        (None, 18, 18, 512)       2359808   \n",
            "_________________________________________________________________\n",
            "block4_conv3 (Conv2D)        (None, 18, 18, 512)       2359808   \n",
            "_________________________________________________________________\n",
            "block4_pool (MaxPooling2D)   (None, 9, 9, 512)         0         \n",
            "_________________________________________________________________\n",
            "block5_conv1 (Conv2D)        (None, 9, 9, 512)         2359808   \n",
            "_________________________________________________________________\n",
            "block5_conv2 (Conv2D)        (None, 9, 9, 512)         2359808   \n",
            "_________________________________________________________________\n",
            "block5_conv3 (Conv2D)        (None, 9, 9, 512)         2359808   \n",
            "_________________________________________________________________\n",
            "block5_pool (MaxPooling2D)   (None, 4, 4, 512)         0         \n",
            "=================================================================\n",
            "Total params: 14,714,688\n",
            "Trainable params: 0\n",
            "Non-trainable params: 14,714,688\n",
            "_________________________________________________________________\n"
          ],
          "name": "stdout"
        }
      ]
    },
    {
      "cell_type": "code",
      "metadata": {
        "id": "VDcStMrkrR83",
        "colab_type": "code",
        "colab": {}
      },
      "source": [
        "#Freezing all layers up to a specific one"
      ],
      "execution_count": null,
      "outputs": []
    },
    {
      "cell_type": "code",
      "metadata": {
        "id": "M5mFXUHMrXEf",
        "colab_type": "code",
        "colab": {}
      },
      "source": [
        "conv_base.trainable = True\n",
        "\n",
        "set_trainable = False\n",
        "\n",
        "for layer in conv_base.layers:\n",
        "  if layer.name == 'block5_conv1':\n",
        "    set_trainable = True\n",
        "  if set_trainable:\n",
        "    layer.trainable = True\n",
        "  else:\n",
        "    layer.trainable = False"
      ],
      "execution_count": null,
      "outputs": []
    },
    {
      "cell_type": "code",
      "metadata": {
        "id": "7DXm8LLYrmft",
        "colab_type": "code",
        "colab": {
          "base_uri": "https://localhost:8080/",
          "height": 799
        },
        "outputId": "414165b9-afaa-4743-cace-985406824dfe"
      },
      "source": [
        "conv_base.summary()"
      ],
      "execution_count": null,
      "outputs": [
        {
          "output_type": "stream",
          "text": [
            "Model: \"vgg16\"\n",
            "_________________________________________________________________\n",
            "Layer (type)                 Output Shape              Param #   \n",
            "=================================================================\n",
            "input_1 (InputLayer)         (None, 150, 150, 3)       0         \n",
            "_________________________________________________________________\n",
            "block1_conv1 (Conv2D)        (None, 150, 150, 64)      1792      \n",
            "_________________________________________________________________\n",
            "block1_conv2 (Conv2D)        (None, 150, 150, 64)      36928     \n",
            "_________________________________________________________________\n",
            "block1_pool (MaxPooling2D)   (None, 75, 75, 64)        0         \n",
            "_________________________________________________________________\n",
            "block2_conv1 (Conv2D)        (None, 75, 75, 128)       73856     \n",
            "_________________________________________________________________\n",
            "block2_conv2 (Conv2D)        (None, 75, 75, 128)       147584    \n",
            "_________________________________________________________________\n",
            "block2_pool (MaxPooling2D)   (None, 37, 37, 128)       0         \n",
            "_________________________________________________________________\n",
            "block3_conv1 (Conv2D)        (None, 37, 37, 256)       295168    \n",
            "_________________________________________________________________\n",
            "block3_conv2 (Conv2D)        (None, 37, 37, 256)       590080    \n",
            "_________________________________________________________________\n",
            "block3_conv3 (Conv2D)        (None, 37, 37, 256)       590080    \n",
            "_________________________________________________________________\n",
            "block3_pool (MaxPooling2D)   (None, 18, 18, 256)       0         \n",
            "_________________________________________________________________\n",
            "block4_conv1 (Conv2D)        (None, 18, 18, 512)       1180160   \n",
            "_________________________________________________________________\n",
            "block4_conv2 (Conv2D)        (None, 18, 18, 512)       2359808   \n",
            "_________________________________________________________________\n",
            "block4_conv3 (Conv2D)        (None, 18, 18, 512)       2359808   \n",
            "_________________________________________________________________\n",
            "block4_pool (MaxPooling2D)   (None, 9, 9, 512)         0         \n",
            "_________________________________________________________________\n",
            "block5_conv1 (Conv2D)        (None, 9, 9, 512)         2359808   \n",
            "_________________________________________________________________\n",
            "block5_conv2 (Conv2D)        (None, 9, 9, 512)         2359808   \n",
            "_________________________________________________________________\n",
            "block5_conv3 (Conv2D)        (None, 9, 9, 512)         2359808   \n",
            "_________________________________________________________________\n",
            "block5_pool (MaxPooling2D)   (None, 4, 4, 512)         0         \n",
            "=================================================================\n",
            "Total params: 14,714,688\n",
            "Trainable params: 7,079,424\n",
            "Non-trainable params: 7,635,264\n",
            "_________________________________________________________________\n"
          ],
          "name": "stdout"
        }
      ]
    },
    {
      "cell_type": "code",
      "metadata": {
        "id": "ApvTg1uirtZv",
        "colab_type": "code",
        "colab": {}
      },
      "source": [
        "#Fine-tuning the model"
      ],
      "execution_count": null,
      "outputs": []
    },
    {
      "cell_type": "code",
      "metadata": {
        "id": "__N5nKnxr6RX",
        "colab_type": "code",
        "colab": {}
      },
      "source": [
        "#compile"
      ],
      "execution_count": null,
      "outputs": []
    },
    {
      "cell_type": "code",
      "metadata": {
        "id": "E0noojmar-0n",
        "colab_type": "code",
        "colab": {}
      },
      "source": [
        "model.compile(loss='binary_crossentropy',\n",
        "              optimizer=optimizers.RMSprop(lr=1e-5),\n",
        "              metrics=['acc'])"
      ],
      "execution_count": null,
      "outputs": []
    },
    {
      "cell_type": "code",
      "metadata": {
        "id": "dUSVI1WIsCFR",
        "colab_type": "code",
        "colab": {}
      },
      "source": [
        "#Fitting"
      ],
      "execution_count": null,
      "outputs": []
    },
    {
      "cell_type": "code",
      "metadata": {
        "id": "GKAwB2vGsG0_",
        "colab_type": "code",
        "colab": {
          "base_uri": "https://localhost:8080/",
          "height": 867
        },
        "outputId": "b4b1f128-5567-4115-ffc4-2f4d0079ddfd"
      },
      "source": [
        "history = model.fit_generator(\n",
        "    train_generator,\n",
        "    steps_per_epoch=100,\n",
        "    epochs=100,\n",
        "    validation_data=validation_generator,\n",
        "    validation_steps=50)"
      ],
      "execution_count": null,
      "outputs": [
        {
          "output_type": "stream",
          "text": [
            "Epoch 1/100\n",
            "100/100 [==============================] - 803s 8s/step - loss: 0.2931 - acc: 0.8720 - val_loss: 0.2028 - val_acc: 0.9170\n",
            "Epoch 2/100\n",
            "100/100 [==============================] - 837s 8s/step - loss: 0.2584 - acc: 0.8960 - val_loss: 0.4885 - val_acc: 0.9140\n",
            "Epoch 3/100\n",
            "100/100 [==============================] - 899s 9s/step - loss: 0.2357 - acc: 0.8985 - val_loss: 0.3092 - val_acc: 0.9180\n",
            "Epoch 4/100\n",
            "100/100 [==============================] - 779s 8s/step - loss: 0.2294 - acc: 0.8955 - val_loss: 0.2523 - val_acc: 0.9210\n",
            "Epoch 5/100\n",
            "100/100 [==============================] - 774s 8s/step - loss: 0.2014 - acc: 0.9115 - val_loss: 0.3555 - val_acc: 0.9170\n",
            "Epoch 6/100\n",
            "100/100 [==============================] - 783s 8s/step - loss: 0.1989 - acc: 0.9175 - val_loss: 0.0203 - val_acc: 0.9160\n",
            "Epoch 7/100\n",
            "100/100 [==============================] - 771s 8s/step - loss: 0.1743 - acc: 0.9295 - val_loss: 0.4503 - val_acc: 0.9300\n",
            "Epoch 8/100\n",
            "100/100 [==============================] - 797s 8s/step - loss: 0.1718 - acc: 0.9315 - val_loss: 0.2952 - val_acc: 0.9340\n",
            "Epoch 9/100\n",
            "100/100 [==============================] - 817s 8s/step - loss: 0.1669 - acc: 0.9345 - val_loss: 0.3003 - val_acc: 0.9230\n",
            "Epoch 10/100\n",
            "100/100 [==============================] - 776s 8s/step - loss: 0.1637 - acc: 0.9340 - val_loss: 0.5661 - val_acc: 0.9330\n",
            "Epoch 11/100\n",
            "100/100 [==============================] - 759s 8s/step - loss: 0.1306 - acc: 0.9510 - val_loss: 0.1536 - val_acc: 0.9370\n",
            "Epoch 12/100\n",
            "100/100 [==============================] - 756s 8s/step - loss: 0.1262 - acc: 0.9560 - val_loss: 0.2742 - val_acc: 0.9150\n",
            "Epoch 13/100\n",
            "100/100 [==============================] - 760s 8s/step - loss: 0.1518 - acc: 0.9380 - val_loss: 0.0439 - val_acc: 0.9320\n",
            "Epoch 14/100\n",
            "100/100 [==============================] - 757s 8s/step - loss: 0.1378 - acc: 0.9455 - val_loss: 0.1806 - val_acc: 0.9300\n",
            "Epoch 15/100\n",
            "100/100 [==============================] - 760s 8s/step - loss: 0.1290 - acc: 0.9480 - val_loss: 0.1355 - val_acc: 0.9160\n",
            "Epoch 16/100\n",
            "100/100 [==============================] - 759s 8s/step - loss: 0.1075 - acc: 0.9580 - val_loss: 0.0704 - val_acc: 0.9360\n",
            "Epoch 17/100\n",
            "100/100 [==============================] - 775s 8s/step - loss: 0.1037 - acc: 0.9590 - val_loss: 0.0784 - val_acc: 0.9400\n",
            "Epoch 18/100\n",
            "100/100 [==============================] - 773s 8s/step - loss: 0.1098 - acc: 0.9570 - val_loss: 0.1670 - val_acc: 0.9160\n",
            "Epoch 19/100\n",
            "100/100 [==============================] - 760s 8s/step - loss: 0.0994 - acc: 0.9640 - val_loss: 0.1402 - val_acc: 0.9180\n",
            "Epoch 20/100\n",
            "100/100 [==============================] - 758s 8s/step - loss: 0.1004 - acc: 0.9635 - val_loss: 0.5760 - val_acc: 0.9280\n",
            "Epoch 21/100\n",
            "100/100 [==============================] - 758s 8s/step - loss: 0.1129 - acc: 0.9550 - val_loss: 0.2110 - val_acc: 0.9320\n",
            "Epoch 22/100\n",
            "100/100 [==============================] - 758s 8s/step - loss: 0.0950 - acc: 0.9640 - val_loss: 0.0246 - val_acc: 0.9310\n",
            "Epoch 23/100\n",
            "100/100 [==============================] - 768s 8s/step - loss: 0.0934 - acc: 0.9680 - val_loss: 0.0539 - val_acc: 0.9330\n",
            "Epoch 24/100\n",
            "100/100 [==============================] - 755s 8s/step - loss: 0.0803 - acc: 0.9685 - val_loss: 0.5775 - val_acc: 0.9290\n",
            "Epoch 25/100\n",
            " 53/100 [==============>...............] - ETA: 4:12 - loss: 0.0838 - acc: 0.9651"
          ],
          "name": "stdout"
        }
      ]
    },
    {
      "cell_type": "code",
      "metadata": {
        "id": "_J-KtFOYsMHa",
        "colab_type": "code",
        "colab": {}
      },
      "source": [
        ""
      ],
      "execution_count": null,
      "outputs": []
    }
  ]
}